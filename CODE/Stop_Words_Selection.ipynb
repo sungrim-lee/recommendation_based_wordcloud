{
 "cells": [
  {
   "cell_type": "code",
   "execution_count": 1,
   "id": "02e588d1",
   "metadata": {},
   "outputs": [],
   "source": [
    "import warnings\n",
    "warnings.simplefilter('ignore')\n",
    "\n",
    "import csv\n",
    "import string\n",
    "import json\n",
    "import itertools\n",
    "import random\n",
    "import collections\n",
    "import YelpCleanData as cd\n",
    "\n",
    "import pandas as pd\n",
    "import numpy as np\n",
    "\n",
    "from wordcloud import WordCloud\n",
    "from wordcloud import STOPWORDS\n",
    "from nltk.util import ngrams"
   ]
  },
  {
   "cell_type": "code",
   "execution_count": 2,
   "id": "d4807470",
   "metadata": {},
   "outputs": [],
   "source": [
    "random.seed(9)"
   ]
  },
  {
   "cell_type": "code",
   "execution_count": 3,
   "id": "ad001f93",
   "metadata": {},
   "outputs": [],
   "source": [
    "user_business_df = cd.load_data('data/rating_history.csv')\n",
    "cat_split_city = user_business_df['categories'].apply(lambda x: list(set(list(map(str.strip, x.split(','))))) if x is not None else 'None')\n",
    "user_business_df['categories'] = cat_split_city\n",
    "cat_merged = set(itertools.chain(*list(cat_split_city.values)))"
   ]
  },
  {
   "cell_type": "code",
   "execution_count": 5,
   "id": "cce5a688",
   "metadata": {},
   "outputs": [],
   "source": [
    "business = cd.open_json('data/business.json')\n",
    "df_business = pd.json_normalize(business)"
   ]
  },
  {
   "cell_type": "code",
   "execution_count": 6,
   "id": "8fc2b3c4",
   "metadata": {},
   "outputs": [],
   "source": [
    "cat_split_entire = df_business['categories'].apply(lambda x: list(set(list(map(str.strip, x.split(','))))) if x is not None else 'None')\n",
    "df_business['categories'] = cat_split_entire"
   ]
  },
  {
   "cell_type": "code",
   "execution_count": 7,
   "id": "4997732c",
   "metadata": {},
   "outputs": [],
   "source": [
    "model = cd.build_word2vec(cat_split_entire, window=20, sg=0, negative=20, alpha=0.03, min_alpha=0.001, epochs=20)"
   ]
  },
  {
   "cell_type": "code",
   "execution_count": 8,
   "id": "be081f34",
   "metadata": {},
   "outputs": [
    {
     "data": {
      "text/html": [
       "<div>\n",
       "<style scoped>\n",
       "    .dataframe tbody tr th:only-of-type {\n",
       "        vertical-align: middle;\n",
       "    }\n",
       "\n",
       "    .dataframe tbody tr th {\n",
       "        vertical-align: top;\n",
       "    }\n",
       "\n",
       "    .dataframe thead th {\n",
       "        text-align: right;\n",
       "    }\n",
       "</style>\n",
       "<table border=\"1\" class=\"dataframe\">\n",
       "  <thead>\n",
       "    <tr style=\"text-align: right;\">\n",
       "      <th></th>\n",
       "      <th>Category</th>\n",
       "      <th>Similarity</th>\n",
       "    </tr>\n",
       "  </thead>\n",
       "  <tbody>\n",
       "    <tr>\n",
       "      <th>0</th>\n",
       "      <td>Brazilian</td>\n",
       "      <td>1.000000</td>\n",
       "    </tr>\n",
       "    <tr>\n",
       "      <th>1</th>\n",
       "      <td>Argentine</td>\n",
       "      <td>0.671038</td>\n",
       "    </tr>\n",
       "    <tr>\n",
       "      <th>2</th>\n",
       "      <td>Peruvian</td>\n",
       "      <td>0.586984</td>\n",
       "    </tr>\n",
       "    <tr>\n",
       "      <th>3</th>\n",
       "      <td>Basque</td>\n",
       "      <td>0.512819</td>\n",
       "    </tr>\n",
       "    <tr>\n",
       "      <th>4</th>\n",
       "      <td>Seafood</td>\n",
       "      <td>0.491764</td>\n",
       "    </tr>\n",
       "  </tbody>\n",
       "</table>\n",
       "</div>"
      ],
      "text/plain": [
       "    Category  Similarity\n",
       "0  Brazilian    1.000000\n",
       "1  Argentine    0.671038\n",
       "2   Peruvian    0.586984\n",
       "3     Basque    0.512819\n",
       "4    Seafood    0.491764"
      ]
     },
     "execution_count": 8,
     "metadata": {},
     "output_type": "execute_result"
    }
   ],
   "source": [
    "# Mapping StockCode with similarity scores with respect to categories existing in the prediction set\n",
    "category = 'Brazilian'\n",
    "similar_df = cd.get_similar_cat_df(model, category)\n",
    "similar_df = similar_df[similar_df['Category'].isin(cat_merged)].reset_index(drop=True)\n",
    "similar_df.head()"
   ]
  },
  {
   "cell_type": "code",
   "execution_count": 9,
   "id": "994e08da",
   "metadata": {},
   "outputs": [
    {
     "data": {
      "text/plain": [
       "3330"
      ]
     },
     "execution_count": 9,
     "metadata": {},
     "output_type": "execute_result"
    }
   ],
   "source": [
    "def unique(list1):\n",
    "    # insert the list to the set\n",
    "    list_set = set(list1)\n",
    "    # convert the set to the list\n",
    "    unique_list = (list(list_set))\n",
    "    return unique_list\n",
    "\n",
    "high_ratings = cd.load_data('data/high_ratings.csv')\n",
    "high_ratings_busi = unique(high_ratings['business_id'])\n",
    "len(high_ratings_busi)"
   ]
  },
  {
   "cell_type": "code",
   "execution_count": 53,
   "id": "293372ec",
   "metadata": {},
   "outputs": [],
   "source": [
    "#Index 541, 3014 has error.\n",
    "remove_val = high_ratings_busi[541], high_ratings_busi[3014]\n",
    "high_ratings_busi.remove(remove_val[0])\n",
    "high_ratings_busi.remove(remove_val[1])"
   ]
  },
  {
   "cell_type": "code",
   "execution_count": 56,
   "id": "9653c8e3",
   "metadata": {},
   "outputs": [],
   "source": [
    "# Find stop words of potential positive reviews (high_rating.csv) \n",
    "high_ratings_word_list = []\n",
    "high_ratings_2_word_list = []\n",
    "for b_id in high_ratings_busi:\n",
    "    if __name__ == \"__main__\":\n",
    "        refer_reviews_df = cd.get_refer_table(b_id, isHighRatings=True).reset_index(drop=True)\n",
    "    \n",
    "        b_cat = user_business_df[user_business_df['business_id'] == b_id]['categories'].iloc[0][0]\n",
    "        similar_cat = cd.get_n_similar_cat(model, b_cat, cat_merged, n=5)\n",
    "    \n",
    "        ref_df = cd.get_potential_reviewers_history_from_today(user_business_df, refer_reviews_df, similar_cat, year_diff=5, isHigh=True)\n",
    "        nlp_df = cd.get_most_recent_reviews(ref_df)\n",
    "        text_series = cd.text_cleaning(nlp_df['text'], n_gram=1)\n",
    "        text_series_2_word = cd.text_cleaning(nlp_df['text'], n_gram=2)\n",
    "        for item in text_series:\n",
    "            high_ratings_word_list += item.split()\n",
    "        for item in text_series_2_word:\n",
    "            high_ratings_2_word_list += item.split()"
   ]
  },
  {
   "cell_type": "code",
   "execution_count": 105,
   "id": "5c434785",
   "metadata": {},
   "outputs": [
    {
     "name": "stdout",
     "output_type": "stream",
     "text": [
      "[('food', 77905), ('great', 76236), ('place', 64643), ('good', 64161), ('delicious', 46521), ('like', 44903), ('time', 42381), ('really', 41930), ('just', 38563), ('definitely', 34978), ('service', 34747), ('amazing', 34417), ('menu', 33810), ('best', 32216), ('love', 32027), ('try', 31401), ('got', 28712), ('ive', 28323), ('chicken', 27004), ('im', 26627), ('spot', 26500), ('ordered', 25517), ('nice', 24976), ('restaurant', 24871), ('bar', 24710), ('order', 23968), ('friendly', 23482), ('cheese', 23102), ('staff', 21958), ('recommend', 21306), ('city', 20946), ('pizza', 19781), ('perfect', 19715), ('favorite', 19711), ('fresh', 19412), ('come', 19164), ('super', 18996), ('came', 18625), ('philly', 18190), ('wait', 17540), ('sauce', 17355), ('dinner', 17300), ('happy', 16607), ('youre', 16520), ('drinks', 16181), ('experience', 16070), ('awesome', 15633), ('salad', 15232), ('little', 15116), ('lunch', 14403), ('night', 14335), ('new', 14255), ('make', 13817), ('dont', 13808), ('meal', 13758), ('loved', 13428), ('right', 13210), ('sandwich', 13172), ('coffee', 12990), ('highly', 12952), ('say', 12762), ('fried', 12670), ('way', 12500), ('sweet', 12372), ('area', 12349), ('breakfast', 12278), ('tried', 11942), ('absolutely', 11861), ('friends', 11746), ('table', 11650), ('quick', 11525), ('eat', 11484), ('went', 11186), ('excellent', 11176), ('small', 11116), ('day', 11080), ('cream', 10952), ('hour', 10939), ('fantastic', 10918), ('beer', 10843), ('different', 10776), ('want', 10740), ('vegan', 10664), ('sure', 10647), ('philadelphia', 10639), ('looking', 10595), ('better', 10594), ('flavor', 10590), ('special', 10561), ('worth', 10521), ('bit', 10443), ('lot', 10400), ('date', 10290), ('coming', 10220), ('didnt', 10147), ('options', 10140), ('tasty', 10043), ('things', 9937), ('cocktails', 9913), ('friend', 9905), ('beef', 9901), ('shrimp', 9862), ('times', 9773), ('brunch', 9606), ('fun', 9521), ('going', 9511), ('know', 9477), ('people', 9444), ('inside', 9431), ('fries', 9366), ('server', 9365), ('big', 9244), ('hot', 9191), ('drink', 9190), ('did', 9168), ('pork', 9131), ('tacos', 8991), ('crispy', 8891), ('long', 8851), ('perfectly', 8843), ('pretty', 8764), ('huge', 8731), ('seating', 8643), ('tea', 8640), ('feel', 8570), ('5', 8545), ('dessert', 8540), ('dish', 8488), ('soup', 8470), ('atmosphere', 8437), ('check', 8393), ('extremely', 8379), ('dishes', 8306), ('rice', 8255), ('dining', 8226), ('think', 8206), ('cool', 8138), ('space', 8129), ('sandwiches', 8004), ('street', 7936), ('items', 7898), ('flavorful', 7866), ('served', 7849), ('spicy', 7815), ('selection', 7735), ('ice', 7721), ('away', 7644), ('outside', 7566), ('stars', 7474), ('flavors', 7394), ('egg', 7392), ('meat', 7378), ('unique', 7353), ('chocolate', 7349), ('taste', 7208), ('real', 7146), ('bread', 7132), ('fan', 6952), ('tables', 6937), ('especially', 6877), ('enjoy', 6829), ('roll', 6813), ('fish', 6790), ('outdoor', 6786), ('neighborhood', 6779), ('dumplings', 6734), ('soon', 6724), ('wings', 6666), ('restaurants', 6610), ('thing', 6607), ('visit', 6524), ('location', 6515), ('burger', 6507), ('work', 6484), ('enjoyed', 6446), ('quality', 6446), ('forward', 6381), ('need', 6379), ('ordering', 6239), ('house', 6220), ('large', 6189), ('kind', 6147), ('cafe', 6058), ('week', 6052), ('home', 6030), ('toast', 6020), ('wanted', 5996), ('bite', 5977), ('thats', 5912), ('wonderful', 5910), ('eating', 5889), ('wine', 5879), ('far', 5871), ('local', 5836), ('music', 5797), ('cake', 5767), ('point', 5708), ('2', 5701), ('years', 5689), ('stop', 5667)]\n"
     ]
    }
   ],
   "source": [
    "import collections\n",
    "high_ratings_word_counts = collections.Counter(high_ratings_word_list)\n",
    "high_ratings_word_counts_top_200 = high_ratings_word_counts.most_common(200)\n",
    "print(high_ratings_word_counts_top_200)"
   ]
  },
  {
   "cell_type": "code",
   "execution_count": 111,
   "id": "ae4d2425",
   "metadata": {
    "scrolled": true
   },
   "outputs": [
    {
     "name": "stdout",
     "output_type": "stream",
     "text": [
      "[('highly_recommend', 10265), ('happy_hour', 9422), ('ice_cream', 6805), ('really_good', 6614), ('staff_friendly', 5167), ('great_food', 4311), ('looking_forward', 4280), ('great_service', 4227), ('love_place', 4202), ('center_city', 3984), ('service_great', 3801), ('great_place', 3793), ('super_friendly', 3665), ('5_stars', 3545), ('fried_chicken', 3280), ('food_good', 3150), ('make_sure', 2884), ('outdoor_seating', 2814), ('food_great', 2774), ('looks_like', 2738), ('friendly_staff', 2735), ('customer_service', 2694), ('im_glad', 2617), ('breakfast_lunch', 2597), ('mac_cheese', 2577), ('great_spot', 2550), ('super_nice', 2538), ('great_experience', 2532), ('wait_come', 2530), ('absolutely_amazing', 2526), ('double_knot', 2497), ('really_cool', 2438), ('south_philly', 2351), ('definitely_recommend', 2339), ('really_nice', 2298), ('good_food', 2274), ('art_deco', 2214), ('ive_tried', 2197), ('forward_coming', 2194), ('feels_like', 2171), ('university_city', 2115), ('definitely_worth', 2113), ('huge_fan', 2095), ('definitely_try', 2092), ('beer_selection', 2090), ('food_service', 2080), ('time_im', 2079), ('real_estate', 2071), ('chicken_sandwich', 2063), ('fish_tacos', 1989), ('really_enjoyed', 1976), ('good_service', 1962), ('perfect_spot', 1961), ('definitely_come', 1960), ('highly_recommended', 1960), ('culinary_adventures', 1943), ('adventures_tom', 1943), ('tom_coghlan', 1943), ('fresh_delicious', 1901), ('french_toast', 1898), ('long_time', 1872), ('comfort_food', 1871), ('just_right', 1868), ('tried_different', 1830), ('check_place', 1822), ('absolutely_delicious', 1804), ('service_quick', 1780), ('look_forward', 1778), ('great_time', 1773), ('place_really', 1771), ('onion_rings', 1768), ('pretty_good', 1751), ('good_beer', 1743), ('hot_pot', 1727), ('place_definitely', 1725), ('place_great', 1725), ('im_sure', 1722), ('amazing_food', 1710), ('cream_cheese', 1696), ('trolley_car', 1684), ('new_favorite', 1683), ('lunch_dinner', 1672), ('youre_looking', 1662), ('quick_bite', 1653), ('menu_items', 1652), ('food_delicious', 1641), ('reading_terminal', 1632), ('come_try', 1627), ('wait_try', 1609), ('really_great', 1607), ('fried_rice', 1606), ('ive_city', 1597), ('dining_experience', 1579), ('amazing_experience', 1577), ('spot_ive', 1569), ('bbq_sauce', 1550), ('restaurant_week', 1540), ('outdoor_dining', 1538), ('fresh_ingredients', 1537), ('vegan_friendly', 1535)]\n"
     ]
    }
   ],
   "source": [
    "import collections\n",
    "high_ratings_2_word_counts = collections.Counter(high_ratings_2_word_list)\n",
    "high_ratings_2_word_counts_top_100 = high_ratings_2_word_counts.most_common(100)\n",
    "print(high_ratings_2_word_counts_top_100)"
   ]
  },
  {
   "cell_type": "code",
   "execution_count": 60,
   "id": "9f265d21",
   "metadata": {},
   "outputs": [
    {
     "data": {
      "text/plain": [
       "1254"
      ]
     },
     "execution_count": 60,
     "metadata": {},
     "output_type": "execute_result"
    }
   ],
   "source": [
    "low_ratings = cd.load_data('data/low_ratings.csv')\n",
    "low_ratings_busi = unique(low_ratings['business_id'])\n",
    "len(low_ratings_busi)"
   ]
  },
  {
   "cell_type": "code",
   "execution_count": 61,
   "id": "bb0f84ac",
   "metadata": {},
   "outputs": [],
   "source": [
    "# Find stop words of potential negative reviews (low_rating.csv) #index  has error\n",
    "low_ratings_word_list = []\n",
    "low_ratings_2_word_list = []\n",
    "for b_id in low_ratings_busi:\n",
    "    if __name__ == \"__main__\":\n",
    "        refer_reviews_df = cd.get_refer_table(b_id, isHighRatings=False).reset_index(drop=True)\n",
    "    \n",
    "        b_cat = user_business_df[user_business_df['business_id'] == b_id]['categories'].iloc[0][0]\n",
    "        similar_cat = cd.get_n_similar_cat(model, b_cat, cat_merged, n=5)\n",
    "    \n",
    "        ref_df = cd.get_potential_reviewers_history_from_today(user_business_df, refer_reviews_df, similar_cat, year_diff=5, isHigh=False)\n",
    "        nlp_df = cd.get_most_recent_reviews(ref_df)\n",
    "        text_series = cd.text_cleaning(nlp_df['text'], n_gram=1)\n",
    "        text_series_2_word = cd.text_cleaning(nlp_df['text'], n_gram=2)\n",
    "        for item in text_series:\n",
    "            low_ratings_word_list += item.split()\n",
    "        for item in text_series_2_word:\n",
    "            low_ratings_2_word_list += item.split()"
   ]
  },
  {
   "cell_type": "code",
   "execution_count": 114,
   "id": "9a7d2af1",
   "metadata": {},
   "outputs": [
    {
     "name": "stdout",
     "output_type": "stream",
     "text": [
      "[('food', 32069), ('order', 24604), ('just', 22039), ('place', 21312), ('like', 18191), ('ordered', 17124), ('time', 16504), ('dont', 15660), ('good', 13493), ('chicken', 13435), ('restaurant', 13321), ('came', 13264), ('got', 12501), ('service', 10607), ('did', 10526), ('really', 10473), ('didnt', 9967), ('people', 9937), ('said', 9674), ('im', 9198), ('know', 9001), ('minutes', 8937), ('table', 8774), ('cheese', 8417), ('told', 8232), ('went', 8179), ('eat', 7673), ('pizza', 7541), ('going', 7492), ('took', 7487), ('come', 6574), ('2', 6545), ('better', 6309), ('asked', 6287), ('ive', 6150), ('bad', 6000), ('money', 5942), ('menu', 5929), ('say', 5857), ('flavor', 5821), ('try', 5667), ('make', 5595), ('wasnt', 5557), ('want', 5398), ('way', 5338), ('wait', 5231), ('cold', 5167), ('server', 4981), ('wanted', 4956), ('experience', 4906), ('night', 4850), ('sauce', 4686), ('dry', 4534), ('salad', 4534), ('fries', 4480), ('times', 4461), ('left', 4385), ('sandwich', 4380), ('day', 4369), ('tip', 4363), ('meal', 4271), ('gave', 4235), ('rice', 4213), ('great', 4193), ('shrimp', 4189), ('ask', 4130), ('disappointed', 4101), ('customer', 4062), ('10', 4053), ('little', 3997), ('bar', 3994), ('waiting', 3943), ('called', 3880), ('decided', 3872), ('rude', 3838), ('lunch', 3829), ('business', 3749), ('ok', 3731), ('taste', 3697), ('location', 3648), ('staff', 3642), ('3', 3630), ('worst', 3625), ('fried', 3610), ('meat', 3560), ('dish', 3536), ('right', 3535), ('tried', 3521), ('drinks', 3518), ('small', 3510), ('thats', 3464), ('coming', 3460), ('person', 3459), ('waited', 3451), ('review', 3437), ('away', 3436), ('wrong', 3426), ('bland', 3422), ('hour', 3416), ('walked', 3416)]\n"
     ]
    }
   ],
   "source": [
    "import collections\n",
    "low_ratings_word_counts = collections.Counter(low_ratings_word_list)\n",
    "low_ratings_word_counts_top_100 = low_ratings_word_counts.most_common(100)\n",
    "print(low_ratings_word_counts_top_100)"
   ]
  },
  {
   "cell_type": "code",
   "execution_count": 127,
   "id": "13c8cf4b",
   "metadata": {},
   "outputs": [
    {
     "name": "stdout",
     "output_type": "stream",
     "text": [
      "[('dont_know', 2453), ('grub_hub', 2444), ('customer_service', 1796), ('n_cheese', 1785), ('mac_n', 1766), ('crab_legs', 1493), ('ice_cream', 1490), ('tip_cash', 1416), ('chicken_cheesesteak', 1381), ('seafood_salad', 1352), ('10_minutes', 1343), ('20_minutes', 1290), ('tasted_like', 1226), ('fried_chicken', 1220), ('waste_money', 1142), ('french_75', 1074), ('got_food', 1063), ('intended_tip', 1035), ('30_minutes', 989), ('mac_cheese', 950), ('late_night', 934), ('butter_cake', 915), ('osso_bucco', 888), ('placed_order', 882), ('time_ordering', 863), ('good_pizza', 832), ('people_waiting', 825), ('did_want', 817), ('really_dont', 815), ('dont_care', 796), ('didnt_want', 777), ('1_star', 774), ('15_minutes', 760), ('taste_like', 753), ('center_city', 752), ('dont_think', 734), ('red_velvet', 732), ('stopped_going', 725), ('velvet_cheesecake', 717), ('grand_marnier', 716), ('minutes_later', 711), ('time_order', 711), ('3_times', 699), ('ive_seen', 676), ('long_time', 675), ('little_bit', 673), ('really_wanted', 669), ('im_really', 655), ('food_drinks', 654), ('just_bad', 650), ('lobster_claws', 650), ('25_minutes', 645), ('food_cold', 645), ('salty_soggy', 644), ('food_just', 635), ('husbands_birthday', 631), ('food_good', 629), ('didnt_know', 629), ('second_time', 625), ('food_came', 620), ('im_sure', 619), ('dont_wrong', 619), ('waitress_did', 617), ('revamp_restaurant', 616), ('chocolate_fountain', 616), ('children_children', 616), ('flavor_just', 612), ('soggy_mess', 607), ('waste_time', 605), ('looked_like', 605), ('look_like', 602), ('food_poisoning', 599), ('ordered_fried', 598), ('unfortunately_food', 596), ('restaurant_week', 590), ('grilled_chicken', 589), ('decided_try', 586), ('wont_going', 582), ('order_ordered', 582), ('eel_roll', 582), ('order_didnt', 580), ('people_actually', 579), ('said_yes', 577), ('dont_waste', 575), ('thinking_good', 570), ('waiting_outside', 570), ('fried_rice', 570), ('pizza_salty', 568), ('threw_away', 565), ('came_tried', 564), ('save_people', 564), ('uber_eats', 562), ('understand_got', 561), ('got_91', 561), ('91_rating', 561), ('rating_barstool', 561), ('barstool_people', 561), ('actually_brainwashed', 561), ('brainwashed_thinking', 561), ('mess_phone', 561)]\n"
     ]
    }
   ],
   "source": [
    "import collections\n",
    "low_ratings_2_word_counts = collections.Counter(low_ratings_2_word_list)\n",
    "low_ratings_2_word_counts_top_100 = low_ratings_2_word_counts.most_common(100)\n",
    "print(low_ratings_2_word_counts_top_100)"
   ]
  },
  {
   "cell_type": "code",
   "execution_count": null,
   "id": "1c7c7522",
   "metadata": {},
   "outputs": [],
   "source": [
    "# We find that the quality of food and customer service appear frequently in both low-rating and high-rating reviews, thus we \n",
    "# remove related words from wordcloud."
   ]
  },
  {
   "cell_type": "code",
   "execution_count": 138,
   "id": "c6f43295",
   "metadata": {},
   "outputs": [],
   "source": [
    "high_rating_stopwords = ['great', 'place', 'good', 'delicious', 'like', 'time', 'really', 'just', 'definitely', \n",
    "                         'amazing', 'best', 'love', 'try', 'got', 'ive', 'im', 'spot', 'ordered', 'nice', \n",
    "                         'restaurant', 'order', 'recommend', 'city', 'perfect', 'favorite', 'come', 'super', 'came',\n",
    "                         'philly', 'happy', 'youre', 'experience', 'awesome', 'little', 'make', 'dont', 'meal', \n",
    "                         'loved', 'right', 'highly', 'say', 'way', 'area', 'tried', 'absolutely', 'table', 'eat', \n",
    "                         'went', 'excellent', 'day', 'hour', 'fantastic', 'different', 'want', 'sure', \n",
    "                         'philadelphia', 'looking', 'better', 'worth', 'bit', 'lot', 'date', 'coming', 'didnt', \n",
    "                         'things', 'friend', 'times', 'going', 'know', 'people', 'did', 'perfectly', 'pretty', \n",
    "                         'feel', '5', 'check', 'extremely', 'dishes', 'dining', 'think', 'items', 'served', 'away',\n",
    "                         'stars', 'especially', 'enjoy', 'soon', 'week', 'wonderful', 'eating', 'point', '2', \n",
    "                         'years','stop', 'enjoyed', 'forward', 'need', 'ordering', 'kind', 'wanted', 'thats',\n",
    "                         'highly_recommend', 'really_good', 'looking_forward', 'love_place', 'great_place',\n",
    "                         '5_stars', 'make_sure', 'looks_like', 'im_glad', 'great_spot', 'super_nice', \n",
    "                         'absolutely_amazing', 'really_cool', 'definitely_recommend', 'really_nice', 'ive_tried',\n",
    "                         'forward_coming', 'feels_like', 'definitely_try', 'time_im', 'really_enjoyed', 'perfect_spot',\n",
    "                         'definitely_come', 'highly_recommended', 'just_right', 'look_forward', 'place_really', \n",
    "                         'im_sure', 'youre_looking', 'come_try', 'really_great', 'dining_experience', \n",
    "                         'amazing_experience', 'spot_ive']\n",
    "high_series = pd.Series(high_rating_stopwords, name = 'Word')\n",
    "high_series.to_csv('high_rating_stopwords.csv',index=False)"
   ]
  },
  {
   "cell_type": "code",
   "execution_count": 139,
   "id": "9f2f7884",
   "metadata": {},
   "outputs": [],
   "source": [
    "low_rating_stopwords = ['just', 'place', 'like', 'ordered', 'time', 'dont', 'good', 'restaurant', 'came', 'got', \n",
    "                        'did', 'really', 'didnt', 'people', 'said', 'im', 'know', 'minutes', 'table', 'told', 'went',\n",
    "                        'eat', 'going', 'took', 'say', 'try', 'make', 'wasnt', 'want', 'way', 'wanted', 'times', \n",
    "                        'day', 'gave', 'great', 'ask', '10', 'called', 'decided', 'ok', '3', 'right', 'tried', \n",
    "                        'thats', 'coming', 'person', 'away', 'hour', 'tasted_like', 'got_food', 'placed_order', \n",
    "                        '1_star', 'taste_like', 'stopped_going', 'ive_seen', 'little_bit', 'im_really', 'food_came', \n",
    "                        'im_sure', 'flavor_just', 'looked_like', 'look_like', 'decided_try', 'order_ordered', \n",
    "                        'order_didnt', 'people_actually', 'said_yes', 'came_tried', 'understand_got']\n",
    "low_series = pd.Series(low_rating_stopwords, name = 'Word')\n",
    "low_series.to_csv('low_rating_stopwords.csv',index=False)"
   ]
  }
 ],
 "metadata": {
  "kernelspec": {
   "display_name": "Python 3 (ipykernel)",
   "language": "python",
   "name": "python3"
  },
  "language_info": {
   "codemirror_mode": {
    "name": "ipython",
    "version": 3
   },
   "file_extension": ".py",
   "mimetype": "text/x-python",
   "name": "python",
   "nbconvert_exporter": "python",
   "pygments_lexer": "ipython3",
   "version": "3.9.7"
  }
 },
 "nbformat": 4,
 "nbformat_minor": 5
}
